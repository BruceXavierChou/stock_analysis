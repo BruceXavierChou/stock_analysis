{
  "cells": [
    {
      "cell_type": "markdown",
      "metadata": {
        "id": "view-in-github",
        "colab_type": "text"
      },
      "source": [
        "<a href=\"https://colab.research.google.com/github/BruceXavierChou/stock_analysis/blob/main/%E3%80%8Cstk_ch06_ipynb%E3%80%8D%E7%9A%84%E5%89%AF%E6%9C%AC.ipynb\" target=\"_parent\"><img src=\"https://colab.research.google.com/assets/colab-badge.svg\" alt=\"Open In Colab\"/></a>"
      ]
    },
    {
      "cell_type": "markdown",
      "metadata": {
        "id": "TFQ17AmL0Yd0"
      },
      "source": [
        "# CH-06 個股分析機器人"
      ]
    },
    {
      "cell_type": "markdown",
      "metadata": {
        "id": "rwGTl75BLNwu"
      },
      "source": [
        "### 1️⃣ 安裝及匯入套件"
      ]
    },
    {
      "cell_type": "code",
      "execution_count": null,
      "metadata": {
        "colab": {
          "base_uri": "https://localhost:8080/"
        },
        "id": "V9x1F86C4T9u",
        "outputId": "8efc09e9-07d3-4f0f-8001-9214afec3360"
      },
      "outputs": [
        {
          "output_type": "stream",
          "name": "stdout",
          "text": [
            "Collecting openai\n",
            "  Downloading openai-1.35.14-py3-none-any.whl (328 kB)\n",
            "\u001b[2K     \u001b[90m━━━━━━━━━━━━━━━━━━━━━━━━━━━━━━━━━━━━━━━━\u001b[0m \u001b[32m328.5/328.5 kB\u001b[0m \u001b[31m2.5 MB/s\u001b[0m eta \u001b[36m0:00:00\u001b[0m\n",
            "\u001b[?25hRequirement already satisfied: anyio<5,>=3.5.0 in /usr/local/lib/python3.10/dist-packages (from openai) (3.7.1)\n",
            "Requirement already satisfied: distro<2,>=1.7.0 in /usr/lib/python3/dist-packages (from openai) (1.7.0)\n",
            "Collecting httpx<1,>=0.23.0 (from openai)\n",
            "  Downloading httpx-0.27.0-py3-none-any.whl (75 kB)\n",
            "\u001b[2K     \u001b[90m━━━━━━━━━━━━━━━━━━━━━━━━━━━━━━━━━━━━━━━━\u001b[0m \u001b[32m75.6/75.6 kB\u001b[0m \u001b[31m5.1 MB/s\u001b[0m eta \u001b[36m0:00:00\u001b[0m\n",
            "\u001b[?25hRequirement already satisfied: pydantic<3,>=1.9.0 in /usr/local/lib/python3.10/dist-packages (from openai) (2.8.2)\n",
            "Requirement already satisfied: sniffio in /usr/local/lib/python3.10/dist-packages (from openai) (1.3.1)\n",
            "Requirement already satisfied: tqdm>4 in /usr/local/lib/python3.10/dist-packages (from openai) (4.66.4)\n",
            "Requirement already satisfied: typing-extensions<5,>=4.7 in /usr/local/lib/python3.10/dist-packages (from openai) (4.12.2)\n",
            "Requirement already satisfied: idna>=2.8 in /usr/local/lib/python3.10/dist-packages (from anyio<5,>=3.5.0->openai) (3.7)\n",
            "Requirement already satisfied: exceptiongroup in /usr/local/lib/python3.10/dist-packages (from anyio<5,>=3.5.0->openai) (1.2.2)\n",
            "Requirement already satisfied: certifi in /usr/local/lib/python3.10/dist-packages (from httpx<1,>=0.23.0->openai) (2024.7.4)\n",
            "Collecting httpcore==1.* (from httpx<1,>=0.23.0->openai)\n",
            "  Downloading httpcore-1.0.5-py3-none-any.whl (77 kB)\n",
            "\u001b[2K     \u001b[90m━━━━━━━━━━━━━━━━━━━━━━━━━━━━━━━━━━━━━━━━\u001b[0m \u001b[32m77.9/77.9 kB\u001b[0m \u001b[31m5.6 MB/s\u001b[0m eta \u001b[36m0:00:00\u001b[0m\n",
            "\u001b[?25hCollecting h11<0.15,>=0.13 (from httpcore==1.*->httpx<1,>=0.23.0->openai)\n",
            "  Downloading h11-0.14.0-py3-none-any.whl (58 kB)\n",
            "\u001b[2K     \u001b[90m━━━━━━━━━━━━━━━━━━━━━━━━━━━━━━━━━━━━━━━━\u001b[0m \u001b[32m58.3/58.3 kB\u001b[0m \u001b[31m5.8 MB/s\u001b[0m eta \u001b[36m0:00:00\u001b[0m\n",
            "\u001b[?25hRequirement already satisfied: annotated-types>=0.4.0 in /usr/local/lib/python3.10/dist-packages (from pydantic<3,>=1.9.0->openai) (0.7.0)\n",
            "Requirement already satisfied: pydantic-core==2.20.1 in /usr/local/lib/python3.10/dist-packages (from pydantic<3,>=1.9.0->openai) (2.20.1)\n",
            "Installing collected packages: h11, httpcore, httpx, openai\n",
            "Successfully installed h11-0.14.0 httpcore-1.0.5 httpx-0.27.0 openai-1.35.14\n",
            "Requirement already satisfied: yfinance in /usr/local/lib/python3.10/dist-packages (0.2.40)\n",
            "Requirement already satisfied: pandas>=1.3.0 in /usr/local/lib/python3.10/dist-packages (from yfinance) (2.0.3)\n",
            "Requirement already satisfied: numpy>=1.16.5 in /usr/local/lib/python3.10/dist-packages (from yfinance) (1.25.2)\n",
            "Requirement already satisfied: requests>=2.31 in /usr/local/lib/python3.10/dist-packages (from yfinance) (2.31.0)\n",
            "Requirement already satisfied: multitasking>=0.0.7 in /usr/local/lib/python3.10/dist-packages (from yfinance) (0.0.11)\n",
            "Requirement already satisfied: lxml>=4.9.1 in /usr/local/lib/python3.10/dist-packages (from yfinance) (4.9.4)\n",
            "Requirement already satisfied: platformdirs>=2.0.0 in /usr/local/lib/python3.10/dist-packages (from yfinance) (4.2.2)\n",
            "Requirement already satisfied: pytz>=2022.5 in /usr/local/lib/python3.10/dist-packages (from yfinance) (2023.4)\n",
            "Requirement already satisfied: frozendict>=2.3.4 in /usr/local/lib/python3.10/dist-packages (from yfinance) (2.4.4)\n",
            "Requirement already satisfied: peewee>=3.16.2 in /usr/local/lib/python3.10/dist-packages (from yfinance) (3.17.6)\n",
            "Requirement already satisfied: beautifulsoup4>=4.11.1 in /usr/local/lib/python3.10/dist-packages (from yfinance) (4.12.3)\n",
            "Requirement already satisfied: html5lib>=1.1 in /usr/local/lib/python3.10/dist-packages (from yfinance) (1.1)\n",
            "Requirement already satisfied: soupsieve>1.2 in /usr/local/lib/python3.10/dist-packages (from beautifulsoup4>=4.11.1->yfinance) (2.5)\n",
            "Requirement already satisfied: six>=1.9 in /usr/local/lib/python3.10/dist-packages (from html5lib>=1.1->yfinance) (1.16.0)\n",
            "Requirement already satisfied: webencodings in /usr/local/lib/python3.10/dist-packages (from html5lib>=1.1->yfinance) (0.5.1)\n",
            "Requirement already satisfied: python-dateutil>=2.8.2 in /usr/local/lib/python3.10/dist-packages (from pandas>=1.3.0->yfinance) (2.8.2)\n",
            "Requirement already satisfied: tzdata>=2022.1 in /usr/local/lib/python3.10/dist-packages (from pandas>=1.3.0->yfinance) (2024.1)\n",
            "Requirement already satisfied: charset-normalizer<4,>=2 in /usr/local/lib/python3.10/dist-packages (from requests>=2.31->yfinance) (3.3.2)\n",
            "Requirement already satisfied: idna<4,>=2.5 in /usr/local/lib/python3.10/dist-packages (from requests>=2.31->yfinance) (3.7)\n",
            "Requirement already satisfied: urllib3<3,>=1.21.1 in /usr/local/lib/python3.10/dist-packages (from requests>=2.31->yfinance) (2.0.7)\n",
            "Requirement already satisfied: certifi>=2017.4.17 in /usr/local/lib/python3.10/dist-packages (from requests>=2.31->yfinance) (2024.7.4)\n"
          ]
        }
      ],
      "source": [
        "!pip install openai\n",
        "!pip install yfinance\n",
        "from openai import OpenAI, OpenAIError # 串接 OpenAI API\n",
        "import yfinance as yf\n",
        "import pandas as pd # 資料處理套件\n",
        "import numpy as np\n",
        "import datetime as dt # 時間套件\n",
        "import requests\n",
        "from bs4 import BeautifulSoup"
      ]
    },
    {
      "cell_type": "markdown",
      "metadata": {
        "id": "wGukHBkyiQA2"
      },
      "source": [
        "### 2️⃣ 輸入 OpenAI API KEY"
      ]
    },
    {
      "cell_type": "code",
      "execution_count": null,
      "metadata": {
        "colab": {
          "base_uri": "https://localhost:8080/"
        },
        "id": "ZN8CnE789cPy",
        "outputId": "fbc10880-949d-406e-88e0-7456319feedc"
      },
      "outputs": [
        {
          "name": "stdout",
          "output_type": "stream",
          "text": [
            "請輸入金鑰：··········\n"
          ]
        }
      ],
      "source": [
        "import getpass # 保密輸入套件\n",
        "api_key = getpass.getpass(\"請輸入金鑰：\")\n",
        "client = OpenAI(api_key = api_key) # 建立 OpenAI 物件"
      ]
    },
    {
      "cell_type": "markdown",
      "source": [
        "### 3️⃣ 取得股價資料"
      ],
      "metadata": {
        "id": "ebiRubdMv_AZ"
      }
    },
    {
      "cell_type": "code",
      "source": [
        "# 從 yfinance 取得一周股價資料\n",
        "def stock_price(stock_id=\"大盤\", days = 10):\n",
        "  if stock_id == \"大盤\":\n",
        "    stock_id=\"^TWII\"\n",
        "  else:\n",
        "    stock_id += \".TW\"\n",
        "\n",
        "  end = dt.date.today() # 資料結束時間\n",
        "  start = end - dt.timedelta(days=days) # 資料開始時間\n",
        "  # 下載資料\n",
        "  df = yf.download(stock_id, start=start)\n",
        "\n",
        "  # 更換列名\n",
        "  df.columns = ['開盤價', '最高價', '最低價',\n",
        "                '收盤價', '調整後收盤價', '成交量']\n",
        "\n",
        "  data = {\n",
        "    '日期': df.index.strftime('%Y-%m-%d').tolist(),\n",
        "    '收盤價': df['收盤價'].tolist(),\n",
        "    '每日報酬': df['收盤價'].pct_change().tolist(),\n",
        "    '漲跌價差': df['調整後收盤價'].diff().tolist()\n",
        "    }\n",
        "\n",
        "  return data\n",
        "\n",
        "print(stock_price(\"2330\"))"
      ],
      "metadata": {
        "colab": {
          "base_uri": "https://localhost:8080/"
        },
        "id": "t30pt68amGmN",
        "outputId": "ceebc04e-d4d5-43d6-b08d-3fb68bef5368"
      },
      "execution_count": null,
      "outputs": [
        {
          "output_type": "stream",
          "name": "stderr",
          "text": [
            "\r[*********************100%%**********************]  1 of 1 completed"
          ]
        },
        {
          "output_type": "stream",
          "name": "stdout",
          "text": [
            "{'日期': ['2024-07-08', '2024-07-09', '2024-07-10', '2024-07-11', '2024-07-12', '2024-07-15', '2024-07-16', '2024-07-17', '2024-07-18'], '收盤價': [1035.0, 1040.0, 1045.0, 1080.0, 1040.0, 1040.0, 1055.0, 1030.0, 1005.0], '每日報酬': [nan, 0.004830917874396157, 0.004807692307692291, 0.03349282296650724, -0.03703703703703709, 0.0, 0.014423076923076872, -0.023696682464455, -0.024271844660194164], '漲跌價差': [nan, 5.0, 5.0, 35.0, -40.0, 0.0, 15.0, -25.0, -25.0]}\n"
          ]
        },
        {
          "output_type": "stream",
          "name": "stderr",
          "text": [
            "\n"
          ]
        }
      ]
    },
    {
      "cell_type": "markdown",
      "source": [
        "### 4️⃣ 取得基本面資料"
      ],
      "metadata": {
        "id": "T59rbTgDwoAZ"
      }
    },
    {
      "cell_type": "code",
      "source": [
        "# 基本面資料\n",
        "def stock_fundamental(stock_id= \"大盤\"):\n",
        "  if stock_id == \"大盤\":\n",
        "      return None\n",
        "\n",
        "  stock_id += \".TW\"\n",
        "  stock = yf.Ticker(stock_id)\n",
        "\n",
        "  # 營收成長率\n",
        "  quarterly_revenue_growth = np.round(stock.quarterly_financials.loc[\"Total Revenue\"].pct_change(-1).dropna().tolist(), 2)\n",
        "\n",
        "  # 每季EPS\n",
        "  quarterly_eps = np.round(stock.quarterly_financials.loc[\"Basic EPS\"].dropna().tolist(), 2)\n",
        "\n",
        "  # EPS季增率\n",
        "  quarterly_eps_growth = np.round(stock.quarterly_financials.loc[\"Basic EPS\"].pct_change(-1).dropna().tolist(), 2)\n",
        "\n",
        "  # 轉換日期\n",
        "  dates = [date.strftime('%Y-%m-%d') for date in stock.quarterly_financials.columns]\n",
        "\n",
        "  data = {\n",
        "      '季日期': dates[:len(quarterly_revenue_growth)],\n",
        "      '營收成長率': quarterly_revenue_growth.tolist(),\n",
        "      'EPS': quarterly_eps[0:3].tolist(),\n",
        "      'EPS 季增率': quarterly_eps_growth[0:3].tolist()\n",
        "  }\n",
        "\n",
        "  return data\n",
        "\n",
        "print(stock_fundamental(\"2330\"))"
      ],
      "metadata": {
        "colab": {
          "base_uri": "https://localhost:8080/"
        },
        "id": "4C7n0hxlwx-x",
        "outputId": "b4dec28a-8580-4a82-81fb-e1ed8dad4fde"
      },
      "execution_count": null,
      "outputs": [
        {
          "output_type": "stream",
          "name": "stdout",
          "text": [
            "{'季日期': ['2024-03-31', '2023-12-31', '2023-09-30', '2023-06-30', '2023-03-31'], '營收成長率': [-0.05, 0.14, 0.14, -0.05, 0.0], 'EPS': [8.7, 9.21, 8.14], 'EPS 季增率': [-0.06, 0.13, 0.16]}\n"
          ]
        }
      ]
    },
    {
      "cell_type": "markdown",
      "metadata": {
        "id": "pC1gzHDLiqhT"
      },
      "source": [
        "### 5️⃣ 取得新聞資料"
      ]
    },
    {
      "cell_type": "code",
      "execution_count": null,
      "metadata": {
        "id": "OBkpRomPEXd1",
        "colab": {
          "base_uri": "https://localhost:8080/"
        },
        "outputId": "3aa40bab-74ca-48ab-e409-cc696d472ba8"
      },
      "outputs": [
        {
          "output_type": "stream",
          "name": "stdout",
          "text": [
            "[['台積電', '2024-07-18', '被AI顛覆的5張半年報', '也由於幾乎所有有意搶攻ＡＩ龐大商機的國際巨擘均正與台積電合作，因此台積電先前也預期伺服器ＡＩ處理器今年營收獻將成長逾一倍、占比達十一至十三％，未來五年的營收年複合成長率（ＣＡＧＲ）則將達五○％，至二○二八年營收占比估超過兩成。市場也預期台積電今年ＥＰＳ可達四○元，明、後年則上看五○、六○元，有望逐年成長。而台積電股價今年來也是一路狂飆，今年迄今漲幅最高達八二％，並突破千元大關，最高寫下一○八○元的歷史新高水準，對比整體加權指數增長不到四成。且目前ＡＤＲ換算台股價格也來到一二○○元，或有助台積電後市表現。除台積電外，今年不少ＡＩ概念股仍持續受市場關注，從公告六月營收來看，整體上市櫃公司合併營收已連四個月突破三兆大關，六月營收以三．六四兆元締造同期次高，月增○．四一％、年增十一．三八％，僅次於二二年的三．八六兆元。總計第二季營收達十．七七兆元，季增九．八二％、年增十四．七三％；帶動上半年合併營收突破二○兆大關，達二○．五七兆元，年增九．九八％。進一步來看，上市櫃公司六月營收創新高家數達六三家，其中又以ＡＩ概念股表現強勁，像是散熱雙雄雙鴻、奇鋐，ASIC 指標的世芯ＫＹ，機殼廠晟銘電，ＣＣＬ的台光電等均入列。另外，台積電 CoWoS 先進封裝產能吃緊，帶動相關廠商如旺矽、萬潤、辛耘六月營收亦皆同步改寫新高。由此，生成式ＡＩ的蓬勃發展，對台灣企業來說，絕對是搭上一大營運成長列車，尤其，隨著在雲端服務大廠（ＣＳＰ）積極搶奪ＡＩ市占率的同時，也讓客製化晶片需求大幅增加，助攻台灣相關的ＩＣ設計服務業者及矽智財（ＩＰ）業者接單表現，包括世芯ＫＹ、創意、智原，甚至是正在布局客製化處理器晶片市場的聯發科、聯詠、瑞昱都有望受惠。（全文未完）來源：《先探投資週刊》2309 期更多精彩內容請至 《先探投資週刊》下一篇'], ['台積電', '2024-07-18', '9月降息股民教戰守則', '回顧川普二○一六年當選總統，市場對於減稅、放鬆金融管制與基礎建設等政策反應佳，尤其是傳統石化、加密貨幣等產業；此外，川普致力於讓美國再次偉大，保護主義下的汽車、鋼鐵乃至半導體，也都有機會受惠。而美中貿易戰的延伸也相當受到矚目，拜登與川普對中國態度，基本上都相當強硬，然而川普恐更為激進，若重返白宮兌現對中國商品開徵六○％關稅，將對於現今已面臨結構性問題的中國經濟，帶來更為嚴峻的考驗，對於仍以中國為生產基地的企業，營運表現也將受到波及。另一方面，川普偏向減稅，對於美國企業獲利將可望有正面助益，並提倡弱勢美元刺激經濟的政策。加碼提高關稅恐導致通膨再次惡化，對中國嚴苛但是對於包含我國在內的其他國家，都有可能會遭到一視同仁。雖然聯準會在九月有高機率開啟降息循環，與誰當選總統沒有必然關係，但是年底乃至明年聯準會的下一步動作，速度與步調就都有調整的可能。聯準會主席鮑威爾近日表示，第二季在壓抑通膨方面取得更多的進展，強調由於貨幣政策會延遲發揮作用，且影響久遠、變數繁多，聯準會不會等到通膨觸及二％的目標才動作，並認為就業市場供需基本已恢復平衡，經濟不太可能硬著陸。根據芝加哥商業交易所 FedWatch 顯示，預期聯準會九月會議降息一碼機率，已攀升至九成以上。一般來說，降息對股市將會帶來正面影響，借貸成本降低，將有利於企業擴大投資，市場資金充沛，加上固定收益回報下滑，將可能促使資金朝高風險、高報酬挪移。以當前美國經濟來看，機構預測多半傾向在軟著陸甚至不著陸之間擺盪，倘若通膨控制得宜，沒有出現黑天鵝或灰犀牛，搭配ＡＩ帶動科技發展大步向前，則對市場將有更大的加分效果。回到目前的股市，道瓊指數首次收盤站上四萬點大關，與 S&P 500、Nasdaq 與費城半導體指數，目前都仍走在創新高的軌道上，本月重點觀察財報密集公布期的企業表現。德國股市也出現反彈走勢，回到高檔震盪以上格局，法國股市則彈升至二四○均線附近整理，日本股市上周創下歷史新高，觀察重點在於日圓，傳出日本央行出手干預，近日暫時升值回到一六○以下，國際股市多數都維持在強勢格局，惟相對弱勢的中國股市，縱然偶有反彈，短期恐仍難有太好表現。台灣加權指數今年最大漲幅達三六．一七％，統計近一八○○檔上市櫃個股表現，漲跌比例約為二比一，累積漲幅逾五成公司約三○○檔，其中更有約一○○檔個股超過一倍，台股多頭趨勢仍未見變化，不過也必須留意，不少個股上漲架構在對於未來展望的高度預期之上，股價跑在營運成長幅度前面，接下來財報將陸續出爐，預期資金將逐漸朝向真正有機會持續高速成長個股集中。以往台股最大推手是外資，但是過去四年累積賣超達一．九五兆元，今年於現貨市場也已轉為淨賣超，顯見台股主要推升力道來自內資，投信加碼台股已超過四○○○億元，最主要的關鍵是投資ＥＴＦ成為顯學，今年整體規模增加約一兆元，推升整體規模至約二．五兆元，其中已有七檔ＥＴＦ規模超過一○○○億元，若加計債券ＥＴＦ則整體規模突破五兆元。（全文未完）來源：《先探投資週刊》2309 期更多精彩內容請至 《先探投資週刊》下一篇'], ['台積電', '2024-07-18', '謝金河：川普效應提前發酵', '看起來美國總統大選的變數已提前釐清，川普的效應迅速擴散，遭到槍擊後首日，他經營的 Trump Media & Techology Group Corp.（DJT）股價迅速跳空大漲三一．三七％，川普的媒體事業 DJT 在三月二十六日掛牌，股價開出七九．三八美元高價，不過川普媒體營收只有七七．○五萬美元，虧損三．二八億美元，股價很快跌到二二．五五美元，這回川普遭槍擊股價大漲三一％。不過次日回檔近十％，看起來基本面才是股價的保證書。不過，川普效應正在開展，像川普上一次在ＦＢ遭到封殺，這次川普揚言要找馬克．祖克柏算帳，Meta 連續四天大跌，從五四二．八一美元跌到四九三．三七美元，反成苦主，而 Tesla 的馬斯克（Musk）則大力贊助川普，Tesla 股價連續上漲，未來川普對中國的態度，包括對台灣的政策，也會深深影響台灣，這也是未來半年台股很重要的變數。台股在二四年是大放異彩的一年，加權指數最高漲到二四四一六．六七，今年最大漲點六四八五．八六，漲幅達三六．一七％，只略遜於費城半導體指數的三七．七一％，台股的大漲集中在權值股，像台積電到一○八○元，鴻海漲到二三四．五元，聯發科到一五○○元，廣達到三四五元，台達電到四三五元，富邦金到九三．六元，這六家公司市值都逾一兆台幣，尤其是台積電到二七兆，鴻海也逾三兆，聯發科到二．一七兆，在四十幾元蟄伏很久的國泰金，這回漲到六六．一元，市值也接近一兆元，後面再加上日月光投控及中信金，台灣前十大市值企業今年都拉出很大的漲幅。不過漲幅大了，也得留意後座力，過去我常提醒很多小型股飆漲後巨大乖離產生的股價修正，這次前十大權值股累積了幾個月超大漲幅，都出現股價距離年線很遠的乖離現象，最具代表性的是台積電。過去台積電都很規律地沿著年線移動，今年二月以後，台積電在 Nvidia 效應中展現動如脫兔的輕盈體態，股價一路上衝，漲到一○八○元，年線在六六八元，股價與年線缺口拉大，這也使得七月十八日的台積電法說會充滿變數。理論上，台積電第二季營收表現出色，今年會有源源不絕利多，但是技術面的乖離要小心，除了股價與年線乖離，台積電在技術面的九日ＫＤ值、九周ＫＤ值、九月ＫＤ值都從九○以上交叉向下，技術面正處在高檔的反轉位置上，這時候要有超強基本面才能撐得住股價。權值第二大的鴻海，從二○○八年起蟄伏十五年左右，股價在百元上下盤旋，今年三月搭上 GB200 伺服器旋風，股價一飛沖天，大漲到二三四．五元，過去十五年，鴻海幾乎跟著年線同行，這回噴出大漲，現在年線在一二五．五元，股價二三四．五元，這個乖離比台積電更大！聯發科年線上升到九六五元，距回檔後的一三四五元看起來已修正不少。這些與年線乖離過大的修正，可能在下半年出現，這也是今年台股的變數，也就是說，帶動指數的權值股可能拉回，會影響股價表現空間。（全文未完）來源：《先探投資週刊》2309 期更多精彩內容請至 《先探投資週刊》下一篇'], ['台積電', '2024-07-18', '〈台股盤後〉台積電雖站回千元大關 大盤仍跌371點失守月線', '遭遇美國前總統川普的相對不利談話及艾斯摩爾財報表現不佳影響之下，台積電開盤遭摜破千元大關以下跌 4% 的 988 元開出，最低 986 元，最高 1005 元，並以 1005 元作收，成交量 8.18 萬張，個股成交值 815 億元，由於台積電在尾盤的發力，也使今天台股盤中由趺點近 600 點，跌幅縮小並收在下跌 371.35 點或 1.56%。資深證券分析師黃漢成指出，台股先前以台積電的表現爲中心，相對帶動的包括設備及封測試等類股，在台積電下趺後，市場資金由半導體類股撤出向外分散。但由今天的整理格局來看，必須小心 AI 及散熱族群可能的續跌。台股可能再跌 700 點，使回檔修正達 2000 點，目前看大盤支撐在 22500 點。在此一趨勢下，先前股價一再破底的台塑 (1301-TW)、南亞 (1303-TW) 及台化 (1326-TW) 、台塑化 (6505-TW) 股價反而逆勢走強。ABF 概念股欣興 (3037-TW)、景碩 (3189-TW) 及南電 (8046-TW) 昨日噴漲，但今天全數拉回，AI 概念股廣達 (2382-TW)、技嘉 (2376-TW) 收盤同步下跌。航運族群的長榮 (2603-TW) 及萬海 (2615-TW) 收盤上漲，但陽明 (2609-TW) 收盤下跌 0.1 元。證券分析師簡伯儀指出，台北股市受到美股大跌，台積電重挫影響，指數出現跳空重挫，收盤指數跌破月均線支撐，也是大盤從 6 月以來，指數首度跌破月線支撐，由於大盤是用跳空跌破，加上 5 日、10 日均線出現交叉下彎，短線走勢出現走弱，同時，在指數回檔之際，日線的 KD 指標也出現轉弱，整體盤勢出現整理，由於近期國際股市出現動盪，企業財報第三季展望不如預期，台股短線面臨漲多回檔修正，預期月線未站穩前，台股指數將持續維持整理。\\xa0#動能指標下跌股77.27%80%84%#下跌三黑K線77.27%84%#波段回檔股80%84%#偏弱機會股80%84%#動能指標上漲股64%70.37%72.73%下一篇'], ['台積電', '2024-07-18', '〈<mark>台積電</mark>法說〉5奈米以下貢獻5成營收 Q2雙率超標 EPS 9.56元刷同期新高', '台積電上半年營收 1 兆 2661.54 億元，年增 28%，毛利率 53.1%，年減 2.2 個百分點，營益率 42.3%，年減 1.5 個百分點，稅後純益 4733.3 億元，年增 21.7%，純益率 37.4%，年減 1.9 個百分點，每股稅後純益 18.25 元。台積電指出，3 奈米製程出貨佔今年第二季晶圓銷售金額的 15%，5 奈米製程出貨佔全季晶圓銷售金額的 35%；7 奈米製程出貨則佔全季晶圓銷售金額的 17%。整體先進製程 (包含 7 奈米及更先進製程) 的營收達到全季晶圓銷售金額的 67%。上一篇下一篇']]\n"
          ]
        }
      ],
      "source": [
        "# 新聞資料\n",
        "def stock_news(stock_name =\"大盤\"):\n",
        "  if stock_name == \"大盤\":\n",
        "    stock_name=\"台股 -盤中速報\"\n",
        "\n",
        "  data=[]\n",
        "  # 取得 Json 格式資料\n",
        "  json_data = requests.get(f'https://ess.api.cnyes.com/ess/api/v1/news/keyword?q={stock_name}&limit=5&page=1').json()\n",
        "\n",
        "  # 依照格式擷取資料\n",
        "  items=json_data['data']['items']\n",
        "  for item in items:\n",
        "      # 網址、標題和日期\n",
        "      news_id = item[\"newsId\"]\n",
        "      title = item[\"title\"]\n",
        "      publish_at = item[\"publishAt\"]\n",
        "      # 使用 UTC 時間格式\n",
        "      utc_time = dt.datetime.utcfromtimestamp(publish_at)\n",
        "      formatted_date = utc_time.strftime('%Y-%m-%d')\n",
        "      # 前往網址擷取內容\n",
        "      url = requests.get(f'https://news.cnyes.com/'\n",
        "                        f'news/id/{news_id}').content\n",
        "      soup = BeautifulSoup(url, 'html.parser')\n",
        "      p_elements=soup .find_all('p')\n",
        "      # 提取段落内容\n",
        "      p=''\n",
        "      for paragraph in p_elements[4:]:\n",
        "          p+=paragraph.get_text()\n",
        "      data.append([stock_name, formatted_date ,title,p])\n",
        "  return data\n",
        "\n",
        "print(stock_news(\"台積電\"))"
      ]
    },
    {
      "cell_type": "markdown",
      "source": [
        "### 6️⃣ 爬取股號、股名對照表"
      ],
      "metadata": {
        "id": "0jqJLS9TSqyU"
      }
    },
    {
      "cell_type": "code",
      "source": [
        "# 取得全部股票的股號、股名\n",
        "def stock_name():\n",
        "  print(\"線上讀取股號、股名、及產業別\")\n",
        "\n",
        "  response = requests.get('https://isin.twse.com.tw/isin/C_public.jsp?strMode=2')\n",
        "  url_data = BeautifulSoup(response.text, 'html.parser')\n",
        "  stock_company = url_data.find_all('tr')\n",
        "\n",
        "  # 資料處理\n",
        "  data = [\n",
        "      (row.find_all('td')[0].text.split('\\u3000')[0].strip(),\n",
        "        row.find_all('td')[0].text.split('\\u3000')[1],\n",
        "        row.find_all('td')[4].text.strip())\n",
        "      for row in stock_company[2:] if len(row.find_all('td')[0].text.split('\\u3000')[0].strip()) == 4\n",
        "  ]\n",
        "\n",
        "  df = pd.DataFrame(data, columns=['股號', '股名', '產業別'])\n",
        "\n",
        "  return df\n",
        "\n",
        "name_df = stock_name()"
      ],
      "metadata": {
        "colab": {
          "base_uri": "https://localhost:8080/"
        },
        "id": "PeCJ5-XHSrU9",
        "outputId": "4a0ed5e6-12d0-4282-b18d-4b632607214c"
      },
      "execution_count": null,
      "outputs": [
        {
          "output_type": "stream",
          "name": "stdout",
          "text": [
            "線上讀取股號、股名、及產業別\n"
          ]
        }
      ]
    },
    {
      "cell_type": "markdown",
      "source": [
        "### 7️⃣ 取得股票名稱"
      ],
      "metadata": {
        "id": "xKNkqNWSoAQe"
      }
    },
    {
      "cell_type": "code",
      "source": [
        "# 取得股票名稱\n",
        "def get_stock_name(stock_id, name_df):\n",
        "    return name_df.set_index('股號').loc[stock_id, '股名']\n",
        "\n",
        "print(name_df.head())\n",
        "print(\"--------------------------\")\n",
        "print(get_stock_name(\"1417\",name_df))"
      ],
      "metadata": {
        "colab": {
          "base_uri": "https://localhost:8080/"
        },
        "id": "IZXQFFxZn2rf",
        "outputId": "95167407-01be-4ddc-89c7-19272664034e"
      },
      "execution_count": null,
      "outputs": [
        {
          "output_type": "stream",
          "name": "stdout",
          "text": [
            "     股號  股名   產業別\n",
            "0  1101  台泥  水泥工業\n",
            "1  1102  亞泥  水泥工業\n",
            "2  1103  嘉泥  水泥工業\n",
            "3  1104  環泥  水泥工業\n",
            "4  1108  幸福  水泥工業\n",
            "--------------------------\n",
            "嘉裕\n"
          ]
        }
      ]
    },
    {
      "cell_type": "markdown",
      "metadata": {
        "id": "pyelatvvLiIn"
      },
      "source": [
        "### 8️⃣ 建構 GPT 3.5 模型"
      ]
    },
    {
      "cell_type": "code",
      "execution_count": null,
      "metadata": {
        "id": "aSjownHrGnde"
      },
      "outputs": [],
      "source": [
        "# 建立 GPT 3.5-16k 模型\n",
        "def get_reply(messages):\n",
        "    try:\n",
        "        response = client.chat.completions.create(\n",
        "            model = \"gpt-3.5-turbo\",\n",
        "            messages = messages\n",
        "        )\n",
        "        reply = response.choices[0].message.content\n",
        "    except OpenAIError as err:\n",
        "        reply = f\"發生 {err.type} 錯誤\\n{err.message}\"\n",
        "    return reply\n",
        "\n",
        "# 建立訊息指令(Prompt)\n",
        "def generate_content_msg(stock_id, name_df):\n",
        "\n",
        "    stock_name = get_stock_name(\n",
        "        stock_id, name_df) if stock_id != \"大盤\" else stock_id\n",
        "\n",
        "    price_data = stock_price(stock_id)\n",
        "    news_data = stock_news(stock_name)\n",
        "\n",
        "    content_msg = f'請依據以下資料來進行分析並給出一份完整的分析報告:\\n'\n",
        "\n",
        "    content_msg += f'近期價格資訊:\\n {price_data}\\n'\n",
        "\n",
        "    if stock_id != \"大盤\":\n",
        "        stock_value_data = stock_fundamental(stock_id)\n",
        "        content_msg += f'每季營收資訊：\\n {stock_value_data}\\n'\n",
        "\n",
        "    content_msg += f'近期新聞資訊: \\n {news_data}\\n'\n",
        "    content_msg += f'請給我{stock_name}近期的趨勢報告,請以詳細、\\\n",
        "      嚴謹及專業的角度撰寫此報告,並提及重要的數字, reply in 繁體中文'\n",
        "\n",
        "    return content_msg\n",
        "\n",
        "# StockGPT\n",
        "def stock_gpt(stock_id, name_df=name_df):\n",
        "    content_msg = generate_content_msg(stock_id, name_df)\n",
        "\n",
        "    msg = [{\n",
        "        \"role\": \"system\",\n",
        "        \"content\": f\"你現在是一位專業的證券分析師, 你會統整近期的股價\\\n",
        "      、基本面、新聞資訊等方面並進行分析, 然後生成一份專業的趨勢分析報告\"\n",
        "    }, {\n",
        "        \"role\": \"user\",\n",
        "        \"content\": content_msg\n",
        "    }]\n",
        "\n",
        "    reply_data = get_reply(msg)\n",
        "\n",
        "    return reply_data\n"
      ]
    },
    {
      "cell_type": "markdown",
      "metadata": {
        "id": "MkoAWO2GjnlT"
      },
      "source": [
        "### 9️⃣ 大盤趨勢報告"
      ]
    },
    {
      "cell_type": "code",
      "execution_count": null,
      "metadata": {
        "colab": {
          "base_uri": "https://localhost:8080/"
        },
        "id": "oDHvn0VCGPzH",
        "outputId": "813beda8-9830-4fbc-c126-b327308e4981"
      },
      "outputs": [
        {
          "output_type": "stream",
          "name": "stderr",
          "text": [
            "\r[*********************100%%**********************]  1 of 1 completed\n"
          ]
        },
        {
          "output_type": "stream",
          "name": "stdout",
          "text": [
            "**股市趨勢分析報告**\n",
            "\n",
            "**1. 近期股市走勢分析:**\n",
            "根據最近價格資訊顯示，股市走勢較為不穩定。7月18日收盤指數為23398.47，較前一個交易日下跌1.56%，漲跌幅度較為明顯。此外，從收盤價走勢來看，股市在過去幾日呈現震蕩下跌的趨勢，表現較為疲軟。\n",
            "\n",
            "**2. 新聞對股市影響分析:**\n",
            "近期新聞資訊中提到了台積電法說會的影響，這對股市造成了一定的衝擊。台積電在法說會中降低了半導體市場展望，這導致投資人情緒較為保守，也造成了台積電及整體股市的走跌。另外，美國前總統特朗普的相對不利談話以及艾斯摩爾財報表現不佳也對市場造成了一定的影響。\n",
            "\n",
            "**3. 技術面分析:**\n",
            "從技術面來看，股市在過去幾日呈現下跌趨勢，收盤價跌破月均線支撐，並出現跳空重挫的情況。短線均線也出現交叉下彎的現象，顯示市場走勢較為疲軟。同時，指數在回檔過程中，KD指標也轉為弱勢，整體市場呈現整理的格局。\n",
            "\n",
            "**4. 股市展望與建議:**\n",
            "考慮到美股大跌、台積電重挫等因素，加上技術面呈現走弱的趨勢，以及全球地緣政治風險等因素對市場的影響，未來台股指數可能持續維持震盪整理的格局。投資人應保持謹慎態度，密切關注市場走勢變化，建議控制風險，適時調整投資組合。\n",
            "\n",
            "**5. 重要數字摘要:**\n",
            "- 7月18日收盤價: 23398.47\n",
            "- 前一交易日收盤價: 23769.82\n",
            "- 7月18日漲跌幅: -1.56%\n",
            "- 最大跌點日期: 4月19日，單日跌幅3.81%，指數跌破月均線支撐\n",
            "\n",
            "以上為近期股市走勢的分析報告，希望能對您的投資決策提供幫助。如需更多專業建議，建議諮詢財務專業人士。\n"
          ]
        }
      ],
      "source": [
        "reply = stock_gpt(stock_id=\"大盤\")\n",
        "print(reply)"
      ]
    },
    {
      "cell_type": "markdown",
      "metadata": {
        "id": "BP5FkDxALp4e"
      },
      "source": [
        "### 🔟 個股分析報告"
      ]
    },
    {
      "cell_type": "code",
      "execution_count": null,
      "metadata": {
        "colab": {
          "base_uri": "https://localhost:8080/"
        },
        "id": "j1x0glPsNJe2",
        "outputId": "61817a43-c44f-4c7a-9e07-16fc0c811080"
      },
      "outputs": [
        {
          "output_type": "stream",
          "name": "stderr",
          "text": [
            "\r[*********************100%%**********************]  1 of 1 completed\n"
          ]
        },
        {
          "output_type": "stream",
          "name": "stdout",
          "text": [
            "### 台積電近期趨勢分析報告\n",
            "\n",
            "#### 股價表現分析：\n",
            "從近期的收盤價資訊觀察，台積電股價出現波動，7月11日一度達到1080元的歷史新高，但在接下來的幾天內有所回調，於7月18日收盤價來到1005元。收盤價波動主要受市場消息和整體股市走勢的影響。每日報酬率呈現波動走勢，顯示投資人在此段期間的交易活躍。\n",
            "\n",
            "#### 基本面分析：\n",
            "根據營收資訊，台積電在上半年取得不錯的業績表現，營收年增率達28%，並在第二季度法說會中指出，5奈米以下製程貢獻了50%以上的營收。另外，每股盈餘（EPS）在這段期間也達到了9.56元，創下同期新高，顯示公司營運持續穩定增長。\n",
            "\n",
            "#### 新聞資訊影響分析：\n",
            "近期新聞資訊反映了市場對於台積電未來發展的樂觀預期，特別是AI領域的商機，以及台積電在新技術領域的積極布局和未來發展潛力。然而，美國前總統川普相關的政策和全球經濟情勢等因素也會對股價產生一定的影響。\n",
            "\n",
            "#### 技術面分析：\n",
            "從技術面來看，台積電股價出現與年線明顯乖離的情況，且相關技術指標如KD值也呈現反轉的現象，顯示股價可能處於高位，成為回檔修正的風險因素。投資者應留意股價與技術指標之間的關聯，以及追蹤股價與均線的走勢。\n",
            "\n",
            "#### 結論：\n",
            "綜合以上分析，台積電作為一家龍頭半導體公司，在營收和EPS方面呈現穩健增長，市場對其未來發展充滿信心。然而，股價波動和技術面的情況需要投資者關注，以避免盲目操作。投資者應注意新聞資訊對市場的影響，同時保持警惕，根據基本面和技術面因素做出理性的投資決策。\n",
            "\n",
            "以上分析僅供參考，投資有風險，建議投資者在了解風險的前提下做出合理的投資決策。\n"
          ]
        }
      ],
      "source": [
        "reply = stock_gpt(stock_id=\"2330\")\n",
        "print(reply)"
      ]
    },
    {
      "cell_type": "markdown",
      "source": [
        "### 1️⃣1️⃣ 雞蛋水餃股也能做分析"
      ],
      "metadata": {
        "id": "VP2kpv8Q_SUH"
      }
    },
    {
      "cell_type": "code",
      "source": [
        "reply = stock_gpt(stock_id=\"4414\")\n",
        "print(reply)"
      ],
      "metadata": {
        "colab": {
          "base_uri": "https://localhost:8080/"
        },
        "id": "3pYDV3Kw_SoE",
        "outputId": "37f96d02-008a-4fa5-c207-1476c8ad3ba6"
      },
      "execution_count": null,
      "outputs": [
        {
          "output_type": "stream",
          "name": "stderr",
          "text": [
            "\r[*********************100%%**********************]  1 of 1 completed\n"
          ]
        },
        {
          "output_type": "stream",
          "name": "stdout",
          "text": [
            "### 如興（代號：4414）近期趨勢分析報告\n",
            "\n",
            "#### 股價資訊分析\n",
            "- **收盤價趨勢：** 近期股價波動幅度較大，自2024年7月8日至7月18日的交易日中，股價從2.91元上升至3.88元，漲幅達到約0.97元，整體呈現上升趨勢。\n",
            "- **每日報酬率：** 從每日報酬率的變化來看，公司股價波動較大，報酬率存在較大的波動性，值得關注。\n",
            "- **漲跌價差：** 在近期的交易中，公司股價的漲跌價差也較大，顯示市場對於該股存在一定程度的不確定性。\n",
            "\n",
            "#### 基本面分析\n",
            "- **營收成長率：** 2023年第一季度至2024年第一季度，營收成長率呈現起伏，整體營收成長幅度不穩定，需要持續關注。\n",
            "- **EPS季增率：** 近期EPS季增率變動較大，波動性較高，需警惕其對公司業績影響。\n",
            "- **公司財務狀況：** 根據營收及EPS表現，公司財務狀況存有一定風險，投資人應謹慎評估與判斷。\n",
            "\n",
            "#### 新聞資訊分析\n",
            "- **盈利及財務改善消息：** 有報導指出公司營收及獲利有顯著增加，但需注意消息真實性與對股價影響。\n",
            "- **公司營運動態：** 從相關新聞中可以看出公司具有多元發展機會，如AI晶片市場布局及全球雲端服務供應商資本支出等，有望帶動公司未來業績增長。\n",
            "- **市場情緒與動能指標：** 市場對如興股價存在一定的興奮情緒，動能指標呈現活潑的交易狀態，投資人應注意市場波動風險。\n",
            "\n",
            "#### 結論與建議\n",
            "- **趨勢綜合分析：** 綜合各項指標看，如興的股價、基本面及市場消息均具有波動性，投資風險相對較高，需謹慎評估。\n",
            "- **投資建議：** 短期投資者可適時把握波段操作機會，長期投資者應持續關注公司營運動態與財務報表，緊盯市場風險及機會。\n",
            "\n",
            "以上報告僅供參考，投資者在做出投資決策前應謹慎評估風險與盈利潛力，並考慮專業投資建議。\n"
          ]
        }
      ]
    }
  ],
  "metadata": {
    "colab": {
      "provenance": [],
      "include_colab_link": true
    },
    "kernelspec": {
      "display_name": "Python 3",
      "name": "python3"
    },
    "language_info": {
      "name": "python"
    }
  },
  "nbformat": 4,
  "nbformat_minor": 0
}